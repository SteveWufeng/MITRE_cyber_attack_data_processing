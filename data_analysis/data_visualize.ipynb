{
 "cells": [
  {
   "cell_type": "code",
   "execution_count": 2,
   "metadata": {},
   "outputs": [],
   "source": [
    "# \n",
    "# file: analyse.py\n",
    "# TODO: add description\n",
    "# description: This script will analyse the data in the csv file...\n",
    "# @Author: Steve Wufeng\n",
    "import pandas as pd\n",
    "import numpy as np\n",
    "import matplotlib as mpl"
   ]
  },
  {
   "cell_type": "code",
   "execution_count": null,
   "metadata": {},
   "outputs": [],
   "source": [
    "def get_most_frequent_tactics() -> int:\n",
    "    # TODO: account all tactics to one column and\n",
    "    #       use dataframe.mode to get the most frequent tactics\n",
    "\n",
    "    return\n",
    "\n",
    "def get_total_num_of_tactics() -> int:\n",
    "    \"\"\"\n",
    "    get the total count of each tactic\n",
    "    \"\"\"\n",
    "    return\n",
    "    \n",
    "def get_most_frequent_union_tactics() -> tuple:\n",
    "    \"\"\"\n",
    "    Use a dictionary to find which combination of tactics\n",
    "    appears most frequently.\n",
    "    sort tuple(the key) alphabetically before adding to dictionary\n",
    "    \"\"\"\n",
    "    return\n",
    "\n",
    "def visualize_data() -> None:\n",
    "    \"\"\"\n",
    "    think about how we can visualize the csv data\n",
    "        1. distribution of tactics (bar graph)\n",
    "        2. most frequently seen words in descriptions (word cloud)\n",
    "        3. most frequent combinations of tactics (bar graph)\n",
    "    \"\"\"\n",
    "    \n",
    "    return"
   ]
  },
  {
   "cell_type": "code",
   "execution_count": 14,
   "metadata": {},
   "outputs": [
    {
     "name": "stdout",
     "output_type": "stream",
     "text": [
      "0       A user can manipulate access tokens to make a ...\n",
      "1       An adversary can use built-in Windows API func...\n",
      "2       OSX/Shlayer can escalate privileges to root by...\n",
      "3       The sudoers file, /etc/sudoers provides the pr...\n",
      "4       Exaramel for Linux can execute commands with h...\n",
      "                              ...                        \n",
      "4665    Adversaries may communicate using application ...\n",
      "4666    Commands to remote mobile devices, and often t...\n",
      "4667    Web protocols such as HTTP and HTTPS are used ...\n",
      "4668    Such notification services leverage HTTP/S via...\n",
      "4669    Use of Web services may also protect back-end ...\n",
      "Name: MITRE Descriptions, Length: 4670, dtype: object\n"
     ]
    }
   ],
   "source": [
    "# load data\n",
    "path = \"C:\\\\Users\\\\sol50\\\\MITRE_cyber_attack_data_processing\\\\data_analysis\\\\MITRE_Main.csv\"\n",
    "source_file = pd.read_csv(path, header = 0)\n",
    "# drop first column\n",
    "tactics = source_file.iloc[:, 1:]\n",
    "# print(tactics) #testing\n",
    "# select only first column\n",
    "descriptions = source_file.iloc[:, 0]\n",
    "# print(descriptions) #testing"
   ]
  },
  {
   "cell_type": "code",
   "execution_count": null,
   "metadata": {},
   "outputs": [],
   "source": [
    "# visualize stuff"
   ]
  }
 ],
 "metadata": {
  "kernelspec": {
   "display_name": "Python 3.10.2 64-bit",
   "language": "python",
   "name": "python3"
  },
  "language_info": {
   "codemirror_mode": {
    "name": "ipython",
    "version": 3
   },
   "file_extension": ".py",
   "mimetype": "text/x-python",
   "name": "python",
   "nbconvert_exporter": "python",
   "pygments_lexer": "ipython3",
   "version": "3.10.2"
  },
  "orig_nbformat": 4,
  "vscode": {
   "interpreter": {
    "hash": "8a2981238c9239cd15920f76c15a52ccd7a026d200f01773901919060052b797"
   }
  }
 },
 "nbformat": 4,
 "nbformat_minor": 2
}
