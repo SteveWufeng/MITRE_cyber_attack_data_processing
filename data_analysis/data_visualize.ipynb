{
 "cells": [
  {
   "cell_type": "code",
   "execution_count": 22,
   "metadata": {},
   "outputs": [],
   "source": [
    "# \n",
    "# file: analyse.py\n",
    "# TODO: add description\n",
    "# description: This script will analyse the data in the csv file...\n",
    "# @Author: Steve Wufeng\n",
    "import pandas as pd\n",
    "import numpy as np\n",
    "import matplotlib.pyplot as plt"
   ]
  },
  {
   "cell_type": "code",
   "execution_count": 39,
   "metadata": {},
   "outputs": [],
   "source": [
    "\n",
    "def get_total_num_of_tactics(tactics: pd.DataFrame) -> dict:\n",
    "    \"\"\"\n",
    "    get the total count of each tactic\n",
    "    \"\"\"\n",
    "    tactic_count = {}\n",
    "    tactics = tactics.to_numpy()\n",
    "    # print (tactics) # testing\n",
    "    for line in tactics:\n",
    "        for tactic in line:\n",
    "            if (tactic in tactic_count):\n",
    "                tactic_count[tactic] += 1\n",
    "            else:\n",
    "                tactic_count[tactic] = 1\n",
    "            \n",
    "    return tactic_count\n",
    "\n",
    "def visualize_data() -> None:\n",
    "    \"\"\"\n",
    "    think about how we can visualize the csv data\n",
    "        1. distribution of tactics (bar graph)\n",
    "        2. most frequently seen words in descriptions (word cloud)\n",
    "        3. most frequent combinations of tactics (bar graph)\n",
    "    \"\"\"\n",
    "    \n",
    "    return"
   ]
  },
  {
   "cell_type": "code",
   "execution_count": null,
   "metadata": {},
   "outputs": [],
   "source": [
    "def most_frequently_seen_word(descriptions: pd.DataFrame) -> None:\n",
    "    \"\"\"\n",
    "    most frequently seen words in descriptions (word cloud)\n",
    "    \"\"\"\n",
    "    word_bank = {}\n",
    "    descriptions.to_numpy()"
   ]
  },
  {
   "cell_type": "code",
   "execution_count": 45,
   "metadata": {},
   "outputs": [],
   "source": [
    "# load data\n",
    "path = \"C:\\\\Users\\\\sol50\\\\MITRE_cyber_attack_data_processing\\\\data_analysis\\\\MITRE_Main.csv\"\n",
    "source_file = pd.read_csv(path, header = 0)\n",
    "# drop first column\n",
    "tactics = source_file.iloc[:, 1:]\n",
    "# print(tactics) #testing\n",
    "# select only first column\n",
    "descriptions = source_file.iloc[:, 0]\n",
    "# print(descriptions) #testing"
   ]
  },
  {
   "cell_type": "code",
   "execution_count": 81,
   "metadata": {},
   "outputs": [
    {
     "name": "stdout",
     "output_type": "stream",
     "text": [
      "\"persistence,privilege_escalation\", 356\n",
      "\"defense_evasion,privilege_escalation\", 243\n",
      "\"defense_evasion,persistence\", 185\n",
      "\"collection,credential_access\", 116\n",
      "\"execution,persistence\", 57\n",
      "\"credential_access,defense_evasion\", 57\n",
      "\"defense_evasion,lateral_movement\", 56\n",
      "\"defense_evasion,initial_access\", 39\n",
      "\"initial_access,persistence\", 39\n",
      "\"defense_evasion,discovery\", 39\n",
      "\"initial_access,lateral_movement\", 25\n",
      "\"defense_evasion,execution\", 24\n",
      "\"credential_access,discovery\", 23\n",
      "\"command_and_control,defense_evasion\", 19\n",
      "\"credential_access,persistence\", 17\n",
      "\"collection,discovery\", 15\n",
      "\"initial_access,privilege_escalation\", 13\n",
      "\"execution,privilege_escalation\", 13\n",
      "\"lateral_movement,persistence\", 13\n",
      "\"execution,lateral_movement\", 12\n",
      "\"collection,command_and_control\", 6\n",
      "\"defense_evasion,impact\", 2\n"
     ]
    }
   ],
   "source": [
    "def get_most_frequent_union_tactics(tactics:pd.DataFrame) -> dict:\n",
    "    \"\"\"\n",
    "    Use a dictionary to find which combination of tactics\n",
    "    appears most frequently.\n",
    "    sort tuple(the key) alphabetically before adding to dictionary\n",
    "    \"\"\"\n",
    "    tactic_combination_frequency = {}\n",
    "    tactics = tactics.to_numpy()\n",
    "    for line in tactics:\n",
    "        # convert all elements to string\n",
    "        for i in range(len(line)):\n",
    "            line[i] = str(line[i])\n",
    "            if line[i] == \"nan\":\n",
    "                line = line[:i]\n",
    "                break\n",
    "        # sort the list in alphabetical order\n",
    "        line.sort()\n",
    "        \n",
    "        # create a list of all possible combinations of tactics\n",
    "        combinations = []\n",
    "        for j in range(len(line)):\n",
    "            for k in range(j+1, len(line)):\n",
    "                combinations.append((line[j], line[k]))\n",
    "        \n",
    "        # add the combination to the dictionary\n",
    "        for combination in combinations:\n",
    "            if combination in tactic_combination_frequency:\n",
    "                tactic_combination_frequency[combination] += 1\n",
    "            else:\n",
    "                tactic_combination_frequency[combination] = 1\n",
    "    return tactic_combination_frequency\n",
    "combination_frequency = get_most_frequent_union_tactics(tactics)\n",
    "\n",
    "# sort the dictionary by value and print out the dictionary\n",
    "sorted_combination = sorted(combination_frequency.items(), key=lambda x: x[1], reverse=True)\n",
    "\n",
    "\n",
    "for token in sorted_combination:\n",
    "    print (f\"\\\"{token[0][0]},{token[0][1]}\\\", {token[1]}\")"
   ]
  },
  {
   "cell_type": "code",
   "execution_count": 32,
   "metadata": {},
   "outputs": [
    {
     "name": "stdout",
     "output_type": "stream",
     "text": [
      "(95, 'EXFILTRATION')\n",
      "(196, 'RECONNAISSANCE')\n",
      "(240, 'LATERAL_MOVEMENT')\n",
      "(264, 'RESOURCE_DEVELOPMENT')\n",
      "(266, 'COMMAND_AND_CONTROL')\n",
      "(269, 'INITIAL_ACCESS')\n",
      "(278, 'IMPACT')\n",
      "(320, 'DISCOVERY')\n",
      "(332, 'EXECUTION')\n",
      "(374, 'COLLECTION')\n",
      "(493, 'CREDENTIAL_ACCESS')\n",
      "(620, 'PRIVILEGE_ESCALATION')\n",
      "(847, 'PERSISTENCE')\n",
      "(1377, 'DEFENSE_EVASION')\n",
      "(12709, nan)\n"
     ]
    }
   ],
   "source": [
    "# process stuff\n",
    "tactics_count = get_total_num_of_tactics(tactics)\n",
    "# print(tactics_count) # testing\n",
    "lista = []\n",
    "for tactic in tactics_count:\n",
    "        lista.append((tactics_count[tactic], tactic))\n",
    "lista.sort()\n",
    "for tup in lista:\n",
    "    print(tup)"
   ]
  }
 ],
 "metadata": {
  "kernelspec": {
   "display_name": "Python 3.10.2 64-bit",
   "language": "python",
   "name": "python3"
  },
  "language_info": {
   "codemirror_mode": {
    "name": "ipython",
    "version": 3
   },
   "file_extension": ".py",
   "mimetype": "text/x-python",
   "name": "python",
   "nbconvert_exporter": "python",
   "pygments_lexer": "ipython3",
   "version": "3.10.2"
  },
  "orig_nbformat": 4,
  "vscode": {
   "interpreter": {
    "hash": "8a2981238c9239cd15920f76c15a52ccd7a026d200f01773901919060052b797"
   }
  }
 },
 "nbformat": 4,
 "nbformat_minor": 2
}
