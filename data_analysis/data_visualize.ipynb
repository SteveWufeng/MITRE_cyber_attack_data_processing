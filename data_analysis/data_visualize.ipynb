{
 "cells": [
  {
   "cell_type": "code",
   "execution_count": null,
   "metadata": {},
   "outputs": [],
   "source": [
    "# \n",
    "# file: analyse.py\n",
    "# TODO: add description\n",
    "# description: This script will analyse the data in the csv file...\n",
    "# @Author: Steve Wufeng\n",
    "import pandas as pd\n",
    "import numpy as np\n",
    "import matplotlib as mpl"
   ]
  },
  {
   "cell_type": "code",
   "execution_count": null,
   "metadata": {},
   "outputs": [],
   "source": [
    "def get_most_frequent_tactics() -> int:\n",
    "    # TODO: account all tactics to one column and\n",
    "    #       use dataframe.mode to get the most frequent tactics\n",
    "\n",
    "    return\n",
    "\n",
    "def get_total_num_of_tactics() -> int:\n",
    "    \"\"\"\n",
    "    get the total count of each tactic\n",
    "    \"\"\"\n",
    "    return\n",
    "    \n",
    "def get_most_frequent_union_tactics() -> tuple:\n",
    "    \"\"\"\n",
    "    Use a dictionary to find which combination of tactics\n",
    "    appears most frequently.\n",
    "    sort tuple(the key) alphabetically before adding to dictionary\n",
    "    \"\"\"\n",
    "    return\n",
    "\n",
    "def visualize_data() -> None:\n",
    "    \"\"\"\n",
    "    think about how we can visualize the csv data\n",
    "        1. distribution of tactics (bar graph)\n",
    "        2. most frequently seen words in descriptions (word cloud)\n",
    "        3. most frequent combinations of tactics (bar graph)\n",
    "    \"\"\"\n",
    "    return"
   ]
  },
  {
   "cell_type": "code",
   "execution_count": null,
   "metadata": {},
   "outputs": [],
   "source": [
    "# load data\n",
    "path = \"data_analysis\\mitre_attack_data.csv\"\n",
    "source_file = pd.read_csv()"
   ]
  },
  {
   "cell_type": "code",
   "execution_count": null,
   "metadata": {},
   "outputs": [],
   "source": [
    "# visualize stuff"
   ]
  }
 ],
 "metadata": {
  "kernelspec": {
   "display_name": "Python 3.10.2 64-bit",
   "language": "python",
   "name": "python3"
  },
  "language_info": {
   "name": "python",
   "version": "3.10.2"
  },
  "orig_nbformat": 4,
  "vscode": {
   "interpreter": {
    "hash": "8a2981238c9239cd15920f76c15a52ccd7a026d200f01773901919060052b797"
   }
  }
 },
 "nbformat": 4,
 "nbformat_minor": 2
}
